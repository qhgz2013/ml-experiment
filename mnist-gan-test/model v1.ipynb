{
 "cells": [
  {
   "cell_type": "code",
   "execution_count": 1,
   "metadata": {},
   "outputs": [
    {
     "name": "stderr",
     "output_type": "stream",
     "text": [
      "Using TensorFlow backend.\n"
     ]
    }
   ],
   "source": [
    "import os\n",
    "import numpy as np\n",
    "import tensorflow as tf\n",
    "import keras\n",
    "from keras import backend as K\n",
    "from IPython import display"
   ]
  },
  {
   "cell_type": "code",
   "execution_count": 2,
   "metadata": {
    "collapsed": true
   },
   "outputs": [],
   "source": [
    "def set_vram_growth():\n",
    "    config = tf.ConfigProto()\n",
    "    config.gpu_options.allow_growth = True\n",
    "    sess = tf.Session(config = config)\n",
    "    K.set_session(sess)"
   ]
  },
  {
   "cell_type": "code",
   "execution_count": 3,
   "metadata": {
    "collapsed": true
   },
   "outputs": [],
   "source": [
    "set_vram_growth()"
   ]
  },
  {
   "cell_type": "code",
   "execution_count": 4,
   "metadata": {
    "collapsed": true
   },
   "outputs": [],
   "source": [
    "import struct\n",
    "def load_training_set():\n",
    "    train_x_input = 'train-images.idx3-ubyte'\n",
    "    train_y_input = 'train-labels.idx1-ubyte'\n",
    "    file_x = open(train_x_input, 'rb')\n",
    "    file_y = open(train_y_input, 'rb')\n",
    "    train_x_origin = file_x.read()\n",
    "    train_y_origin = file_y.read()\n",
    "    file_x.close()\n",
    "    file_y.close()\n",
    "    \n",
    "    #mnist training set label format\n",
    "    magic_number = struct.unpack('>i', train_y_origin[0:4])[0]\n",
    "    item_count = struct.unpack('>i', train_y_origin[4:8])[0]\n",
    "    train_y = np.ones((item_count, 1), dtype = 'float32') #just proving it is a REAL image, not a fake image\n",
    "    \n",
    "    #mnist training set image format\n",
    "    magic_number = struct.unpack('>i', train_x_origin[0:4])[0]\n",
    "    item_count = struct.unpack('>i', train_x_origin[4:8])[0]\n",
    "    rows = struct.unpack('>i', train_x_origin[8:12])[0]\n",
    "    cols = struct.unpack('>i', train_x_origin[12:16])[0]\n",
    "    \n",
    "    train_x = np.fromstring(train_x_origin[16:], dtype = 'uint8')\n",
    "    train_x = train_x.astype('float32')\n",
    "    train_x = train_x.reshape(item_count, rows, cols, 1)\n",
    "    #train_x = train_x / 255\n",
    "    train_x = (train_x - 127.5) / 127.5 #rescaled to -1 ~ 1\n",
    "    return train_x, train_y"
   ]
  },
  {
   "cell_type": "code",
   "execution_count": 5,
   "metadata": {},
   "outputs": [
    {
     "name": "stdout",
     "output_type": "stream",
     "text": [
      "float32 (60000, 28, 28, 1)\n",
      "float32 (60000, 1)\n"
     ]
    }
   ],
   "source": [
    "train_x, train_y = load_training_set()\n",
    "print(train_x.dtype, train_x.shape)\n",
    "print(train_y.dtype, train_y.shape)"
   ]
  },
  {
   "cell_type": "code",
   "execution_count": 6,
   "metadata": {
    "collapsed": true
   },
   "outputs": [],
   "source": [
    "def single_channel_to_rgb(gray):\n",
    "    ret = np.zeros((gray.shape[0], gray.shape[1], 3))\n",
    "    for i in range(3):\n",
    "        #ret[:,:,i] = gray[:,:]\n",
    "        ret[:,:,i] = (gray[:,:] + 1) / 2\n",
    "    return ret"
   ]
  },
  {
   "cell_type": "code",
   "execution_count": 7,
   "metadata": {},
   "outputs": [
    {
     "name": "stdout",
     "output_type": "stream",
     "text": [
      "index:  5876\n"
     ]
    },
    {
     "data": {
      "text/plain": [
       "<matplotlib.image.AxesImage at 0x1a10199c358>"
      ]
     },
     "execution_count": 7,
     "metadata": {},
     "output_type": "execute_result"
    },
    {
     "data": {
      "image/png": "[encoded data removed]",
      "text/plain": [
       "<matplotlib.figure.Figure at 0x1a160de7048>"
      ]
     },
     "metadata": {},
     "output_type": "display_data"
    }
   ],
   "source": [
    "import matplotlib.pyplot as plt\n",
    "%matplotlib inline\n",
    "import random\n",
    "\n",
    "test_img_index = random.randint(0, train_x.shape[0] - 1)\n",
    "\n",
    "print('index: ', test_img_index)\n",
    "plt.imshow(single_channel_to_rgb(train_x[test_img_index,:,:,0]))"
   ]
  },
  {
   "cell_type": "code",
   "execution_count": 8,
   "metadata": {
    "collapsed": true
   },
   "outputs": [],
   "source": [
    "from keras.optimizers import *\n",
    "opt_discriminator = Adam(0.0002, 0.5) #SGD(lr = 0.0005, momentum = 0.9, nesterov = True)#RMSprop(lr = 0.0008, clipvalue = 1.0, decay = 6e-8)\n",
    "opt_generator = Adam(0.0002, 0.5) #SGD(lr = 0.0005, momentum = 0.9, nesterov = True) #RMSprop(lr = 0.0004, clipvalue = 1.0, decay = 3e-8)"
   ]
  },
  {
   "cell_type": "code",
   "execution_count": 9,
   "metadata": {
    "collapsed": true
   },
   "outputs": [],
   "source": [
    "from keras.models import *\n",
    "from keras.layers import *\n",
    "from keras.regularizers import *\n",
    "def discriminator_model():\n",
    "    input_shape = (28, 28, 1)\n",
    "    model_input = Input(shape = input_shape)\n",
    "    model = Conv2D(32, (3, 3), strides = (2, 2), padding = 'same')(model_input)\n",
    "    model = LeakyReLU(alpha = 0.2)(model)\n",
    "    model = Dropout(0.25)(model)\n",
    "    model = Conv2D(64, (3, 3), strides = (2, 2), padding = 'same')(model)\n",
    "    model = ZeroPadding2D(padding = ((0,1),(0,1)))(model)\n",
    "    model = LeakyReLU(alpha = 0.2)(model)\n",
    "    model = Dropout(0.25)(model)\n",
    "    model = BatchNormalization()(model)\n",
    "    model = Conv2D(128, (3, 3), strides = (2, 2), padding = 'same')(model)\n",
    "    model = LeakyReLU(alpha = 0.2)(model)\n",
    "    model = Dropout(0.25)(model)\n",
    "    model = BatchNormalization()(model)\n",
    "    model = Conv2D(256, (3, 3), strides = (1, 1), padding = 'same')(model)\n",
    "    model = LeakyReLU(alpha = 0.2)(model)\n",
    "    model = Dropout(0.25)(model)\n",
    "    \n",
    "    model = Flatten()(model)\n",
    "    model = Dense(1)(model)\n",
    "    \n",
    "    model = Activation('sigmoid')(model)\n",
    "    \n",
    "    \n",
    "    model = Model(model_input, model)\n",
    "    model.compile(loss = 'binary_crossentropy', optimizer = opt_discriminator, metrics = ['accuracy'])\n",
    "    return model"
   ]
  },
  {
   "cell_type": "code",
   "execution_count": 10,
   "metadata": {},
   "outputs": [
    {
     "name": "stdout",
     "output_type": "stream",
     "text": [
      "_________________________________________________________________\n",
      "Layer (type)                 Output Shape              Param #   \n",
      "=================================================================\n",
      "input_1 (InputLayer)         (None, 28, 28, 1)         0         \n",
      "_________________________________________________________________\n",
      "conv2d_1 (Conv2D)            (None, 14, 14, 32)        320       \n",
      "_________________________________________________________________\n",
      "leaky_re_lu_1 (LeakyReLU)    (None, 14, 14, 32)        0         \n",
      "_________________________________________________________________\n",
      "dropout_1 (Dropout)          (None, 14, 14, 32)        0         \n",
      "_________________________________________________________________\n",
      "conv2d_2 (Conv2D)            (None, 7, 7, 64)          18496     \n",
      "_________________________________________________________________\n",
      "zero_padding2d_1 (ZeroPaddin (None, 8, 8, 64)          0         \n",
      "_________________________________________________________________\n",
      "leaky_re_lu_2 (LeakyReLU)    (None, 8, 8, 64)          0         \n",
      "_________________________________________________________________\n",
      "dropout_2 (Dropout)          (None, 8, 8, 64)          0         \n",
      "_________________________________________________________________\n",
      "batch_normalization_1 (Batch (None, 8, 8, 64)          256       \n",
      "_________________________________________________________________\n",
      "conv2d_3 (Conv2D)            (None, 4, 4, 128)         73856     \n",
      "_________________________________________________________________\n",
      "leaky_re_lu_3 (LeakyReLU)    (None, 4, 4, 128)         0         \n",
      "_________________________________________________________________\n",
      "dropout_3 (Dropout)          (None, 4, 4, 128)         0         \n",
      "_________________________________________________________________\n",
      "batch_normalization_2 (Batch (None, 4, 4, 128)         512       \n",
      "_________________________________________________________________\n",
      "conv2d_4 (Conv2D)            (None, 4, 4, 256)         295168    \n",
      "_________________________________________________________________\n",
      "leaky_re_lu_4 (LeakyReLU)    (None, 4, 4, 256)         0         \n",
      "_________________________________________________________________\n",
      "dropout_4 (Dropout)          (None, 4, 4, 256)         0         \n",
      "_________________________________________________________________\n",
      "flatten_1 (Flatten)          (None, 4096)              0         \n",
      "_________________________________________________________________\n",
      "dense_1 (Dense)              (None, 1)                 4097      \n",
      "_________________________________________________________________\n",
      "activation_1 (Activation)    (None, 1)                 0         \n",
      "=================================================================\n",
      "Total params: 392,705\n",
      "Trainable params: 392,321\n",
      "Non-trainable params: 384\n",
      "_________________________________________________________________\n"
     ]
    }
   ],
   "source": [
    "D = discriminator_model()\n",
    "D.summary()"
   ]
  },
  {
   "cell_type": "code",
   "execution_count": 11,
   "metadata": {
    "collapsed": true
   },
   "outputs": [],
   "source": [
    "def generator_model():\n",
    "    input_shape = (100,)\n",
    "    model_input = Input(shape = input_shape)\n",
    "    model = Dense(7 * 7 * 128)(model_input)\n",
    "    model = Activation('relu')(model)\n",
    "    model = Reshape((7, 7, 128))(model)\n",
    "    model = BatchNormalization()(model)\n",
    "    \n",
    "    model = UpSampling2D()(model)\n",
    "    model = Conv2D(128, (3, 3), padding = 'same')(model)\n",
    "    model = Activation('relu')(model)\n",
    "    model = BatchNormalization()(model)\n",
    "    model = UpSampling2D()(model)\n",
    "    model = Conv2D(64, (3, 3), padding = 'same')(model)\n",
    "    model = Activation('relu')(model)\n",
    "    model = BatchNormalization()(model)\n",
    "    #model = Conv2D(32, (3, 3), padding = 'same')(model)\n",
    "    #model = BatchNormalization()(model)\n",
    "    #model = Activation('relu')(model)\n",
    "    model = Conv2D(1, (3, 3), padding = 'same')(model)\n",
    "    model = Activation('tanh')(model)\n",
    "    \n",
    "    \n",
    "    model = Model(model_input, model)\n",
    "    model.compile(loss = 'binary_crossentropy', optimizer = opt_generator, metrics = ['accuracy'])\n",
    "    return model"
   ]
  },
  {
   "cell_type": "code",
   "execution_count": 12,
   "metadata": {},
   "outputs": [
    {
     "name": "stdout",
     "output_type": "stream",
     "text": [
      "_________________________________________________________________\n",
      "Layer (type)                 Output Shape              Param #   \n",
      "=================================================================\n",
      "input_2 (InputLayer)         (None, 100)               0         \n",
      "_________________________________________________________________\n",
      "dense_2 (Dense)              (None, 6272)              633472    \n",
      "_________________________________________________________________\n",
      "activation_2 (Activation)    (None, 6272)              0         \n",
      "_________________________________________________________________\n",
      "reshape_1 (Reshape)          (None, 7, 7, 128)         0         \n",
      "_________________________________________________________________\n",
      "batch_normalization_3 (Batch (None, 7, 7, 128)         512       \n",
      "_________________________________________________________________\n",
      "up_sampling2d_1 (UpSampling2 (None, 14, 14, 128)       0         \n",
      "_________________________________________________________________\n",
      "conv2d_5 (Conv2D)            (None, 14, 14, 128)       147584    \n",
      "_________________________________________________________________\n",
      "activation_3 (Activation)    (None, 14, 14, 128)       0         \n",
      "_________________________________________________________________\n",
      "batch_normalization_4 (Batch (None, 14, 14, 128)       512       \n",
      "_________________________________________________________________\n",
      "up_sampling2d_2 (UpSampling2 (None, 28, 28, 128)       0         \n",
      "_________________________________________________________________\n",
      "conv2d_6 (Conv2D)            (None, 28, 28, 64)        73792     \n",
      "_________________________________________________________________\n",
      "activation_4 (Activation)    (None, 28, 28, 64)        0         \n",
      "_________________________________________________________________\n",
      "batch_normalization_5 (Batch (None, 28, 28, 64)        256       \n",
      "_________________________________________________________________\n",
      "conv2d_7 (Conv2D)            (None, 28, 28, 1)         577       \n",
      "_________________________________________________________________\n",
      "activation_5 (Activation)    (None, 28, 28, 1)         0         \n",
      "=================================================================\n",
      "Total params: 856,705\n",
      "Trainable params: 856,065\n",
      "Non-trainable params: 640\n",
      "_________________________________________________________________\n"
     ]
    }
   ],
   "source": [
    "G = generator_model()\n",
    "G.summary()"
   ]
  },
  {
   "cell_type": "code",
   "execution_count": 13,
   "metadata": {
    "collapsed": true
   },
   "outputs": [],
   "source": [
    "def gan_model(discriminator, generator):\n",
    "    input_shape = (100,)\n",
    "    model_input = Input(shape = input_shape)\n",
    "    model = generator(model_input)\n",
    "    model = discriminator(model)\n",
    "    model = Model(model_input, model)\n",
    "    \n",
    "    discriminator.trainable = False\n",
    "    for l in discriminator.layers:\n",
    "        l.trainable = False\n",
    "        \n",
    "    model.compile(loss = 'binary_crossentropy', optimizer = opt_generator, metrics = ['accuracy'])\n",
    "    \n",
    "    return model"
   ]
  },
  {
   "cell_type": "code",
   "execution_count": 14,
   "metadata": {},
   "outputs": [
    {
     "name": "stdout",
     "output_type": "stream",
     "text": [
      "_________________________________________________________________\n",
      "Layer (type)                 Output Shape              Param #   \n",
      "=================================================================\n",
      "input_3 (InputLayer)         (None, 100)               0         \n",
      "_________________________________________________________________\n",
      "model_2 (Model)              (None, 28, 28, 1)         856705    \n",
      "_________________________________________________________________\n",
      "model_1 (Model)              (None, 1)                 392705    \n",
      "=================================================================\n",
      "Total params: 1,249,410\n",
      "Trainable params: 856,065\n",
      "Non-trainable params: 393,345\n",
      "_________________________________________________________________\n"
     ]
    }
   ],
   "source": [
    "GAN = gan_model(D, G)\n",
    "GAN.summary()"
   ]
  },
  {
   "cell_type": "code",
   "execution_count": 15,
   "metadata": {
    "collapsed": true
   },
   "outputs": [],
   "source": [
    "def set_net_trainable(net, trainable):\n",
    "    net.trainable = trainable\n",
    "    for l in net.layers:\n",
    "        l.trainable = trainable"
   ]
  },
  {
   "cell_type": "code",
   "execution_count": 16,
   "metadata": {
    "collapsed": true
   },
   "outputs": [],
   "source": [
    "def pretrain_discriminator(discriminator, generator, train_x_real, batch_size = 32, epoches = 3):\n",
    "    set_net_trainable(discriminator, True)\n",
    "    for i in range(epoches):\n",
    "        images_real = train_x_real[np.random.randint(0, train_x_real.shape[0] - 1, size = batch_size),:,:,:]\n",
    "        noise = np.random.normal(0.0, 1.0, size = [batch_size, 100])\n",
    "        images_fake = generator.predict(noise)\n",
    "\n",
    "        batch_train_x = np.concatenate((images_real, images_fake))\n",
    "        batch_train_y = np.ones([2 * batch_size, 1])\n",
    "        batch_train_y[batch_size:, :] = 0\n",
    "        \n",
    "        discriminator_loss = discriminator.train_on_batch(batch_train_x, batch_train_y)\n",
    "        if ((i % 10) == 9):\n",
    "            print('Step ' + str(i + 1) + ' :  Discriminator Loss: ' + str(discriminator_loss))"
   ]
  },
  {
   "cell_type": "code",
   "execution_count": 17,
   "metadata": {
    "collapsed": true
   },
   "outputs": [],
   "source": [
    "def test_generator(generator, discriminator):\n",
    "    noise = np.random.normal(0.0, 1.0, size = [1, 100])\n",
    "    y_pred = generator.predict(noise)\n",
    "    plt.figure()\n",
    "    plt.imshow(single_channel_to_rgb(y_pred[0,:,:,0]))\n",
    "    plt.show()\n",
    "    y_true = discriminator.predict(y_pred)\n",
    "    print('Is True? = ', y_true[0, 0])"
   ]
  },
  {
   "cell_type": "code",
   "execution_count": 18,
   "metadata": {
    "collapsed": true
   },
   "outputs": [],
   "source": [
    "def plot_loss(loss):\n",
    "    display.clear_output(wait = True)\n",
    "    \n",
    "    d = loss['d']\n",
    "    g = loss['g']\n",
    "    print('Overall training steps: ')\n",
    "    plt.figure()\n",
    "    plt.plot(d, label = 'discriminator loss')\n",
    "    plt.plot(g, label = 'generator loss')\n",
    "    plt.legend()\n",
    "    plt.show()\n",
    "    \n",
    "    print('Recent 100 training steps:')\n",
    "    if (len(d) > 100):\n",
    "        d = d[-100:]\n",
    "    if (len(g) > 100):\n",
    "        g = g[-100:]\n",
    "    plt.figure()\n",
    "    plt.plot(d, label = 'discriminator loss')\n",
    "    plt.plot(g, label = 'generator loss')\n",
    "    plt.legend()\n",
    "    plt.show()\n",
    "    \n",
    "    "
   ]
  },
  {
   "cell_type": "code",
   "execution_count": 19,
   "metadata": {
    "collapsed": true
   },
   "outputs": [],
   "source": [
    "def train_model(D, G, GAN, train_x_real, batch_size = 32, epoches = 1000):\n",
    "    losses = {'d': [], 'g': []}\n",
    "    half = int(batch_size / 2)\n",
    "    for i in range(epoches):\n",
    "        images_real = train_x_real[np.random.randint(0, train_x_real.shape[0] - 1, size = half),:,:,:]\n",
    "        noise = np.random.normal(0.0, 1.0, size = [half, 100])\n",
    "        images_fake = G.predict(noise)\n",
    "\n",
    "        set_net_trainable(D, True)\n",
    "        discriminator_loss_true = D.train_on_batch(images_real, np.ones([half, 1]))\n",
    "        discriminator_loss_fake = D.train_on_batch(images_fake, np.zeros([half, 1]))\n",
    "        discriminator_loss = np.add(discriminator_loss_true, discriminator_loss_fake) / 2\n",
    "        \n",
    "        batch_train_y = np.ones([batch_size, 1])\n",
    "        noise = np.random.normal(0.0, 1.0, size = [batch_size, 100])\n",
    "\n",
    "        set_net_trainable(D, False)\n",
    "        generator_loss = GAN.train_on_batch(noise, batch_train_y)\n",
    "        \n",
    "        losses['d'].append(discriminator_loss[0])\n",
    "        losses['g'].append(generator_loss[0])\n",
    "        \n",
    "        if ((i % 10) == 9):\n",
    "            plot_loss(losses)\n",
    "            print('Step ' + str(i + 1) + ' : Generator Loss: ' + str(generator_loss) + \", Discriminator Loss: \" + str(discriminator_loss))\n",
    "            test_generator(G, D)"
   ]
  },
  {
   "cell_type": "code",
   "execution_count": 20,
   "metadata": {
    "collapsed": true
   },
   "outputs": [],
   "source": [
    "#pretrain_discriminator(D, G, train_x, batch_size = 256, epoches = 10)"
   ]
  },
  {
   "cell_type": "code",
   "execution_count": 21,
   "metadata": {
    "scrolled": false
   },
   "outputs": [
    {
     "name": "stdout",
     "output_type": "stream",
     "text": [
      "Overall training steps: \n"
     ]
    },
    {
     "data": {
      "image/png": "[encoded data removed]",
      "text/plain": [
       "<matplotlib.figure.Figure at 0x1a195c74b70>"
      ]
     },
     "metadata": {},
     "output_type": "display_data"
    },
    {
     "name": "stdout",
     "output_type": "stream",
     "text": [
      "Recent 100 training steps:\n"
     ]
    },
    {
     "data": {
      "image/png": "[encoded data removed]",
      "text/plain": [
       "<matplotlib.figure.Figure at 0x1a194bc1ac8>"
      ]
     },
     "metadata": {},
     "output_type": "display_data"
    },
    {
     "name": "stdout",
     "output_type": "stream",
     "text": [
      "Step 6000 : Generator Loss: [0.76589817, 0.38671875], Discriminator Loss: [ 0.69291484  0.5546875 ]\n"
     ]
    },
    {
     "data": {
      "image/png": "[encoded data removed]",
      "text/plain": [
       "<matplotlib.figure.Figure at 0x1a194bb2588>"
      ]
     },
     "metadata": {},
     "output_type": "display_data"
    },
    {
     "name": "stdout",
     "output_type": "stream",
     "text": [
      "Is True? =  0.58035\n"
     ]
    }
   ],
   "source": [
    "train_model(D, G, GAN, train_x, batch_size = 256, epoches = 6000)"
   ]
  },
  {
   "cell_type": "code",
   "execution_count": 32,
   "metadata": {},
   "outputs": [
    {
     "data": {
      "image/png": "[encoded data removed]",
      "text/plain": [
       "<matplotlib.figure.Figure at 0x1a197742a90>"
      ]
     },
     "metadata": {},
     "output_type": "display_data"
    },
    {
     "name": "stdout",
     "output_type": "stream",
     "text": [
      "Is True? =  0.477329\n"
     ]
    }
   ],
   "source": [
    "test_generator(G, D)"
   ]
  },
  {
   "cell_type": "code",
   "execution_count": 23,
   "metadata": {
    "collapsed": true
   },
   "outputs": [],
   "source": [
    "#D.save('discriminator.h5')\n",
    "#G.save('generator.h5')\n",
    "#GAN.save('gan.h5')"
   ]
  },
  {
   "cell_type": "code",
   "execution_count": 24,
   "metadata": {
    "collapsed": true
   },
   "outputs": [],
   "source": [
    "#D = keras.models.load_model('discriminator.h5')\n",
    "#G = keras.models.load_model('generator.h5')\n",
    "#GAN = keras.models.load_model('gan.h5')"
   ]
  },
  {
   "cell_type": "code",
   "execution_count": null,
   "metadata": {
    "collapsed": true
   },
   "outputs": [],
   "source": []
  }
 ],
 "metadata": {
  "kernelspec": {
   "display_name": "Python 3",
   "language": "python",
   "name": "python3"
  },
  "language_info": {
   "codemirror_mode": {
    "name": "ipython",
    "version": 3
   },
   "file_extension": ".py",
   "mimetype": "text/x-python",
   "name": "python",
   "nbconvert_exporter": "python",
   "pygments_lexer": "ipython3",
   "version": "3.6.3"
  }
 },
 "nbformat": 4,
 "nbformat_minor": 2
}
